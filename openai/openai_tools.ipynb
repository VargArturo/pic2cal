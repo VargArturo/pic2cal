{
 "cells": [
  {
   "cell_type": "code",
   "execution_count": 35,
   "id": "13efecc6",
   "metadata": {},
   "outputs": [
    {
     "name": "stdout",
     "output_type": "stream",
     "text": [
      "8 ounce of yogurt-greek-plain-nonfat, 1 cup of strawberries-raw, 1/4 cup of cereals ready-to-eat-granola-homemade. Layer all ingredients in a serving dish.\n",
      "\n",
      "###\n",
      "\n",
      "\n",
      " 332.05964 END\n"
     ]
    }
   ],
   "source": [
    "import numpy as np\n",
    "import json\n",
    "\n",
    "\n",
    "from rec2cal.utils import parse_ingredients, parse_instructions\n",
    "from rec2cal.data_paths import rep_json, data_path\n",
    "\n",
    "recipies = json.load(open(rep_json, \"rb\"))\n",
    "\n",
    "def format_data(lst, partition=\"train\"):\n",
    "  dataset_X = []\n",
    "  dataset_y = []\n",
    "    \n",
    "  for x in lst:\n",
    "    if x[\"partition\"] == partition:\n",
    "      ingredients = parse_ingredients(x)\n",
    "      instructions = parse_instructions(x[\"instructions\"])\n",
    "      calories = (x[\"nutr_values_per100g\"][\"energy\"]/100) * sum(x['weight_per_ingr'])\n",
    "      sentence = ingredients + \". \" + instructions \n",
    "\n",
    "      dataset_X += [sentence + \"\\n\\n###\\n\\n\"]\n",
    "      dataset_y += [\" \" + str(calories) + \" END\"]\n",
    "  \n",
    "  print(dataset_X[0])\n",
    "  print(dataset_y[0])\n",
    "  f_data = [{'prompt':i, 'completion':j} for i,j in zip(dataset_X, dataset_y)]\n",
    "                    \n",
    "  return f_data\n",
    "\n",
    "stuff= format_data(recipies, \"train\")"
   ]
  },
  {
   "cell_type": "code",
   "execution_count": null,
   "id": "1bb0b223",
   "metadata": {},
   "outputs": [],
   "source": [
    "stuff"
   ]
  },
  {
   "cell_type": "code",
   "execution_count": 20,
   "id": "ec943b5a",
   "metadata": {},
   "outputs": [],
   "source": [
    "str_ = \"\\n\".join(map(str,stuff)),"
   ]
  },
  {
   "cell_type": "code",
   "execution_count": 28,
   "id": "2bf92c4a",
   "metadata": {},
   "outputs": [],
   "source": [
    "recipies = json.dump(stuff, open(data_path + \"/open_ai.json\", \"w\"))"
   ]
  },
  {
   "cell_type": "code",
   "execution_count": 34,
   "id": "8210510d",
   "metadata": {},
   "outputs": [],
   "source": [
    "import csv\n",
    "\n",
    "\n",
    "data = [x.values() for x in stuff ]\n",
    "with open(data_path + \"/open_ai.csv\", 'w', encoding='UTF8', newline='') as f:\n",
    "    writer = csv.writer(f)\n",
    "\n",
    "    # write the header\n",
    "    writer.writerow((\"prompt\", \"completion\"))\n",
    "\n",
    "    # write multiple rows\n",
    "    writer.writerows(data)"
   ]
  },
  {
   "cell_type": "code",
   "execution_count": 37,
   "id": "c4d7d366",
   "metadata": {},
   "outputs": [
    {
     "name": "stdout",
     "output_type": "stream",
     "text": [
      "Analyzing...\r\n",
      "\r\n",
      "\r\n",
      "ERROR in read_any_format validator: File ../data/open_ai_fixed.csv does not exist.\r\n",
      "\r\n",
      "Aborting..."
     ]
    }
   ],
   "source": [
    "!openai tools fine_tunes.prepare_data -f ../data/open_ai.csv"
   ]
  },
  {
   "cell_type": "code",
   "execution_count": null,
   "id": "26b19045",
   "metadata": {},
   "outputs": [],
   "source": [
    "!openai api fine_tunes.create -t \"../data/open_ai_prepared.jsonl\" -m ada"
   ]
  },
  {
   "cell_type": "code",
   "execution_count": 25,
   "id": "f6f5ff6d",
   "metadata": {},
   "outputs": [
    {
     "data": {
      "text/plain": [
       "27208403"
      ]
     },
     "execution_count": 25,
     "metadata": {},
     "output_type": "execute_result"
    }
   ],
   "source": [
    "len(str_[0])"
   ]
  },
  {
   "cell_type": "code",
   "execution_count": 26,
   "id": "e4528228",
   "metadata": {},
   "outputs": [
    {
     "data": {
      "text/plain": [
       "\"{'prompt':\""
      ]
     },
     "execution_count": 26,
     "metadata": {},
     "output_type": "execute_result"
    }
   ],
   "source": [
    "str_[0][0:10]"
   ]
  }
 ],
 "metadata": {
  "kernelspec": {
   "display_name": "Python 3 (ipykernel)",
   "language": "python",
   "name": "python3"
  },
  "language_info": {
   "codemirror_mode": {
    "name": "ipython",
    "version": 3
   },
   "file_extension": ".py",
   "mimetype": "text/x-python",
   "name": "python",
   "nbconvert_exporter": "python",
   "pygments_lexer": "ipython3",
   "version": "3.10.8"
  }
 },
 "nbformat": 4,
 "nbformat_minor": 5
}
